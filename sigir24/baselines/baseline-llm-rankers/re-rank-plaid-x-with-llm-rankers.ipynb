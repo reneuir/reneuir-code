{
 "cells": [
  {
   "cell_type": "markdown",
   "metadata": {},
   "source": [
    "# LLM-rankers on PLAID-X\n",
    "\n",
    "This jupyter notebook uses [llm-rankers](https://github.com/ielab/llm-rankers) to re-rank the top-100 documents retrieved by [plaid-x](https://github.com/hltcoe/ColBERT-X) in the context [ReNeuIR 2024](https://reneuir.org/). Please look at the [corresponding publications](https://github.com/ielab/llm-rankers#references) for more details."
   ]
  },
  {
   "cell_type": "markdown",
   "metadata": {},
   "source": [
    "### Step 1: Import dependencies"
   ]
  },
  {
   "cell_type": "code",
   "execution_count": 2,
   "metadata": {},
   "outputs": [],
   "source": [
    "import torch\n",
    "from tqdm import tqdm\n",
    "import pandas as pd\n",
    "from tira.third_party_integrations import ir_datasets, persist_and_normalize_run\n",
    "from tira.rest_api_client import Client\n",
    "from llmrankers.setwise import SetwiseLlmRanker\n",
    "from llmrankers.rankers import SearchResult\n",
    "import os\n"
   ]
  },
  {
   "cell_type": "markdown",
   "metadata": {},
   "source": [
    "### Step 2: Load and Transform the Dataset"
   ]
  },
  {
   "cell_type": "code",
   "execution_count": 16,
   "metadata": {},
   "outputs": [
    {
     "name": "stderr",
     "output_type": "stream",
     "text": [
      "Download: 3.60MiB [00:00, 8.07MiB/s]\n"
     ]
    },
    {
     "name": "stdout",
     "output_type": "stream",
     "text": [
      "Download finished. Extract...\n",
      "Extraction finished:  /root/.tira/extracted_datasets/reneuir-2024/dl-top-10-docs-20240701-training/\n"
     ]
    }
   ],
   "source": [
    "# the \"from tira.third_party_integrations import ir_datasets\" import patches \"ir_datasets.load\"\n",
    "# so that it loads the dataset injected into the tira sandbox when executed within the sandbox.\n",
    "# I.e., we only ensure that it runs on a minimal spot-check dataset here.\n",
    "dataset_id = 'reneuir-2024/dl-top-10-docs-20240701-training'\n",
    "dataset = ir_datasets.load(dataset_id)\n",
    "\n",
    "queries = {i.query_id: i.default_text() for i in dataset.queries_iter()}\n",
    "docs_store = dataset.docs_store()"
   ]
  },
  {
   "cell_type": "code",
   "execution_count": 18,
   "metadata": {},
   "outputs": [
    {
     "name": "stderr",
     "output_type": "stream",
     "text": [
      "Transform data: 9700it [00:00, 40897.70it/s]\n"
     ]
    }
   ],
   "source": [
    "tira = Client()\n",
    "plaid_x = tira.get_run_output('reneuir-2024/reneuir-baselines/plaid-x-retrieval', dataset_id)\n",
    "\n",
    "# we have no pyterrier in this docker image, so we load the previous stage via pandas\n",
    "plaid_x = pd.read_csv(plaid_x + '/run.txt', sep=\"\\s+\", names=[\"qid\", \"q0\", \"docid\", \"rank\", \"score\", \"system\"], dtype={\"qid\": str, \"docid\": str})\n",
    "\n",
    "# filter to top-100 results\n",
    "plaid_x = plaid_x[plaid_x[\"rank\"] <= 100]\n",
    "\n",
    "qid_to_rerank_data = {}\n",
    "\n",
    "for _, i in tqdm(plaid_x.iterrows(), 'Transform data'):\n",
    "    if i['qid'] not in qid_to_rerank_data:\n",
    "        qid_to_rerank_data[i['qid']] = {'query': queries[i['qid']], 'search_results': []}\n",
    "\n",
    "    qid_to_rerank_data[i['qid']]['search_results']  += [\n",
    "        SearchResult(docid=i['docid'], text=docs_store.get(i['docid']).default_text(), score=i['score'])\n",
    "    ]"
   ]
  },
  {
   "cell_type": "markdown",
   "metadata": {},
   "source": [
    "### Step 3: Re-Rank"
   ]
  },
  {
   "cell_type": "code",
   "execution_count": null,
   "metadata": {},
   "outputs": [],
   "source": [
    "device = 'cuda' if torch.cuda.is_available() else 'cpu'\n",
    "print('Will use device:', device)\n",
    "\n",
    "# We make the model injectable into the notebook so that we can run multiple models with the same code.\n",
    "model = os.environ.get('MODEL', 'google/flan-t5-small')\n",
    "\n",
    "print('Model is:', model)\n",
    "\n",
    "ranker = SetwiseLlmRanker(model_name_or_path=model, tokenizer_name_or_path=model, device=device)\n",
    "\n",
    "print('Ranker is', ranker)"
   ]
  },
  {
   "cell_type": "code",
   "execution_count": null,
   "metadata": {},
   "outputs": [],
   "source": [
    "run = []\n",
    "\n",
    "for qid in tqdm(qid_to_rerank_data):\n",
    "    query = qid_to_rerank_data[qid]['query']\n",
    "    search_results = qid_to_rerank_data[qid]['search_results']\n",
    "\n",
    "    for i in ranker.rerank(query, search_results):\n",
    "        run += [{\"qid\": qid, \"score\": i.score, \"docno\": i.docid}]\n"
   ]
  },
  {
   "cell_type": "markdown",
   "metadata": {},
   "source": [
    "### Step 4: Persist run file"
   ]
  },
  {
   "cell_type": "code",
   "execution_count": null,
   "metadata": {},
   "outputs": [],
   "source": [
    "run = pd.DataFrame(run)\n",
    "\n",
    "persist_and_normalize_run(run, system_name=f'llm-rankers-plaid-x-{model}', default_output='.')"
   ]
  }
 ],
 "metadata": {
  "kernelspec": {
   "display_name": "base",
   "language": "python",
   "name": "python3"
  },
  "language_info": {
   "codemirror_mode": {
    "name": "ipython",
    "version": 3
   },
   "file_extension": ".py",
   "mimetype": "text/x-python",
   "name": "python",
   "nbconvert_exporter": "python",
   "pygments_lexer": "ipython3",
   "version": "3.10.14"
  }
 },
 "nbformat": 4,
 "nbformat_minor": 2
}
