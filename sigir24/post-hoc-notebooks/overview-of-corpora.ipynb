{
 "cells": [
  {
   "cell_type": "markdown",
   "metadata": {},
   "source": [
    "# Overview of Subcorpora used for the ReNeuIR 2024 Shared Task\n",
    "\n",
    "**Attention**: Submission is still open (until at least 31.07.2024, i.e., after SIGIR'2024), please do not hesitate to submit further approaches. As long as submissions are open, we might add further datasets to contrast different efficiency/effectiveness tradeoffs. Please do not hesitate to suggest other datasets that we can include.\n",
    "\n",
    "Besides from that, we will add all datasets to Zenodo, where some datasets might be private until after the deadline, but after the deadline everything will be made publicly available on Zenodo.\n",
    "\n",
    "Right now, we have 6 public datasets:\n",
    "\n",
    "- `reneuir-2024/dl-top-10-docs-20240701-training`: TODO \n",
    "- `reneuir-2024/dl-top-100-docs-20240701-training`: TODO \n",
    "- `reneuir-2024/dl-top-1000-docs-20240701-training`: TODO \n",
    "- `reneuir-2024/tiny-sample-20231030-training`: TODO \n",
    "- `reneuir-2024/ms-marco-100-queries-20240629-training`: TODO \n",
    "- `reneuir-2024/ms-marco-1000-queries-20240629-training`: TODO \n",
    "- `reneuir-2024/ms-marco-all-dev-queries-20240629-training`: TODO \n",
    "\n",
    "All datasets can be easily accessed via the tira client and its ir_datasets integration."
   ]
  },
  {
   "cell_type": "code",
   "execution_count": 5,
   "metadata": {},
   "outputs": [],
   "source": [
    "from tira.third_party_integrations import ir_datasets\n",
    "import pandas as pd\n",
    "from tqdm import tqdm\n",
    "\n",
    "datasets = [\n",
    "    'reneuir-2024/dl-top-10-docs-20240701-training', 'reneuir-2024/dl-top-100-docs-20240701-training',\n",
    "    'reneuir-2024/dl-top-1000-docs-20240701-training', 'reneuir-2024/tiny-sample-20231030-training',\n",
    "    'reneuir-2024/ms-marco-100-queries-20240629-training', 'reneuir-2024/ms-marco-1000-queries-20240629-training',\n",
    "    'reneuir-2024/ms-marco-all-dev-queries-20240629-training'\n",
    "]"
   ]
  },
  {
   "cell_type": "code",
   "execution_count": 13,
   "metadata": {},
   "outputs": [
    {
     "name": "stderr",
     "output_type": "stream",
     "text": [
      "100%|██████████| 7/7 [01:04<00:00,  9.18s/it]\n"
     ]
    },
    {
     "data": {
      "text/html": [
       "<div>\n",
       "<style scoped>\n",
       "    .dataframe tbody tr th:only-of-type {\n",
       "        vertical-align: middle;\n",
       "    }\n",
       "\n",
       "    .dataframe tbody tr th {\n",
       "        vertical-align: top;\n",
       "    }\n",
       "\n",
       "    .dataframe thead th {\n",
       "        text-align: right;\n",
       "    }\n",
       "</style>\n",
       "<table border=\"1\" class=\"dataframe\">\n",
       "  <thead>\n",
       "    <tr style=\"text-align: right;\">\n",
       "      <th></th>\n",
       "      <th>dataset</th>\n",
       "      <th>documents</th>\n",
       "      <th>queries</th>\n",
       "    </tr>\n",
       "  </thead>\n",
       "  <tbody>\n",
       "    <tr>\n",
       "      <th>0</th>\n",
       "      <td>reneuir-2024/dl-top-10-docs-20240701-training</td>\n",
       "      <td>6965</td>\n",
       "      <td>97</td>\n",
       "    </tr>\n",
       "    <tr>\n",
       "      <th>1</th>\n",
       "      <td>reneuir-2024/dl-top-100-docs-20240701-training</td>\n",
       "      <td>68261</td>\n",
       "      <td>97</td>\n",
       "    </tr>\n",
       "    <tr>\n",
       "      <th>2</th>\n",
       "      <td>reneuir-2024/dl-top-1000-docs-20240701-training</td>\n",
       "      <td>543311</td>\n",
       "      <td>97</td>\n",
       "    </tr>\n",
       "    <tr>\n",
       "      <th>3</th>\n",
       "      <td>reneuir-2024/tiny-sample-20231030-training</td>\n",
       "      <td>6</td>\n",
       "      <td>3</td>\n",
       "    </tr>\n",
       "    <tr>\n",
       "      <th>4</th>\n",
       "      <td>reneuir-2024/ms-marco-100-queries-20240629-tra...</td>\n",
       "      <td>2314745</td>\n",
       "      <td>100</td>\n",
       "    </tr>\n",
       "    <tr>\n",
       "      <th>5</th>\n",
       "      <td>reneuir-2024/ms-marco-1000-queries-20240629-tr...</td>\n",
       "      <td>2314745</td>\n",
       "      <td>1000</td>\n",
       "    </tr>\n",
       "    <tr>\n",
       "      <th>6</th>\n",
       "      <td>reneuir-2024/ms-marco-all-dev-queries-20240629...</td>\n",
       "      <td>2314745</td>\n",
       "      <td>6980</td>\n",
       "    </tr>\n",
       "  </tbody>\n",
       "</table>\n",
       "</div>"
      ],
      "text/plain": [
       "                                             dataset  documents  queries\n",
       "0      reneuir-2024/dl-top-10-docs-20240701-training       6965       97\n",
       "1     reneuir-2024/dl-top-100-docs-20240701-training      68261       97\n",
       "2    reneuir-2024/dl-top-1000-docs-20240701-training     543311       97\n",
       "3         reneuir-2024/tiny-sample-20231030-training          6        3\n",
       "4  reneuir-2024/ms-marco-100-queries-20240629-tra...    2314745      100\n",
       "5  reneuir-2024/ms-marco-1000-queries-20240629-tr...    2314745     1000\n",
       "6  reneuir-2024/ms-marco-all-dev-queries-20240629...    2314745     6980"
      ]
     },
     "execution_count": 13,
     "metadata": {},
     "output_type": "execute_result"
    }
   ],
   "source": [
    "df = []\n",
    "\n",
    "for dataset in tqdm(datasets):\n",
    "    doc_count = len([1 for i in ir_datasets.load(dataset).docs_iter()])\n",
    "    query_count = len([1 for i in  ir_datasets.load(dataset).queries_iter()])\n",
    "\n",
    "    df += [{'dataset': dataset, 'documents': doc_count, 'queries': query_count}]\n",
    "\n",
    "df = pd.DataFrame(df)\n",
    "df"
   ]
  }
 ],
 "metadata": {
  "kernelspec": {
   "display_name": "Python 3",
   "language": "python",
   "name": "python3"
  },
  "language_info": {
   "codemirror_mode": {
    "name": "ipython",
    "version": 3
   },
   "file_extension": ".py",
   "mimetype": "text/x-python",
   "name": "python",
   "nbconvert_exporter": "python",
   "pygments_lexer": "ipython3",
   "version": "3.10.12"
  }
 },
 "nbformat": 4,
 "nbformat_minor": 2
}
